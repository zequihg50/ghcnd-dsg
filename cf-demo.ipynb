{
 "cells": [
  {
   "cell_type": "markdown",
   "id": "9291b6cd-1025-4ef7-8c04-ceb1c74b5799",
   "metadata": {},
   "source": [
    "# cf-python for DSG\n",
    "\n",
    "https://ncas-cms.github.io/cf-python/tutorial.html#discrete-sampling-geometries"
   ]
  },
  {
   "cell_type": "code",
   "execution_count": 1,
   "id": "6f8aeea0-6a0d-498e-a8d8-6df56e1ec18b",
   "metadata": {},
   "outputs": [],
   "source": [
    "import cf\n",
    "import cfplot"
   ]
  },
  {
   "cell_type": "code",
   "execution_count": 2,
   "id": "acb27ded-d0c7-4698-ba32-f4448a11d488",
   "metadata": {},
   "outputs": [
    {
     "data": {
      "text/plain": [
       "[<CF Field: precipitation_flux(cf_role=timeseries_id(20), ncdim%timeseries_1(36170)) kg m-2 s-1>,\n",
       " <CF Field: snow_amount(cf_role=timeseries_id(20), ncdim%timeseries_1(36170)) mm>,\n",
       " <CF Field: snow_depth(cf_role=timeseries_id(20), ncdim%timeseries_1(36170)) mm>,\n",
       " <CF Field: air_temperature(cf_role=timeseries_id(20), ncdim%timeseries_1(36170)) K>,\n",
       " <CF Field: air_temperature(cf_role=timeseries_id(20), ncdim%timeseries_1(36170)) K>]"
      ]
     },
     "execution_count": 2,
     "metadata": {},
     "output_type": "execute_result"
    }
   ],
   "source": [
    "f = cf.read(\"ghcn-dsg.nc\")\n",
    "f"
   ]
  },
  {
   "cell_type": "code",
   "execution_count": 3,
   "id": "523df430-aeab-424a-8ac1-fc6bdbf7d173",
   "metadata": {},
   "outputs": [
    {
     "data": {
      "text/plain": [
       "[<CF Data(36170): [--, ..., --] mm>,\n",
       " <CF Data(36170): [--, ..., --] mm>,\n",
       " <CF Data(36170): [--, ..., --] mm>,\n",
       " <CF Data(36170): [--, ..., --] mm>,\n",
       " <CF Data(36170): [--, ..., --] mm>,\n",
       " <CF Data(36170): [--, ..., --] mm>,\n",
       " <CF Data(36170): [--, ..., --] mm>,\n",
       " <CF Data(36170): [--, ..., --] mm>,\n",
       " <CF Data(36170): [0.0, ..., --] mm>,\n",
       " <CF Data(36170): [--, ..., --] mm>,\n",
       " <CF Data(36170): [--, ..., --] mm>,\n",
       " <CF Data(36170): [--, ..., --] mm>,\n",
       " <CF Data(36170): [--, ..., --] mm>,\n",
       " <CF Data(36170): [--, ..., --] mm>,\n",
       " <CF Data(36170): [--, ..., --] mm>,\n",
       " <CF Data(36170): [--, ..., --] mm>,\n",
       " <CF Data(36170): [--, ..., --] mm>,\n",
       " <CF Data(36170): [--, ..., --] mm>,\n",
       " <CF Data(36170): [--, ..., --] mm>,\n",
       " <CF Data(36170): [--, ..., --] mm>]"
      ]
     },
     "execution_count": 3,
     "metadata": {},
     "output_type": "execute_result"
    }
   ],
   "source": [
    "list(f[1].data) # list stations, second field is the cf_role"
   ]
  },
  {
   "cell_type": "code",
   "execution_count": 4,
   "id": "773e28ae-72ea-4f6a-bdcb-db170f280c48",
   "metadata": {},
   "outputs": [
    {
     "data": {
      "text/plain": [
       "<CF Field: air_temperature(cf_role=timeseries_id(20), ncdim%timeseries_1(36170)) K>"
      ]
     },
     "execution_count": 4,
     "metadata": {},
     "output_type": "execute_result"
    }
   ],
   "source": [
    "temp = f[-1]\n",
    "temp"
   ]
  },
  {
   "cell_type": "markdown",
   "id": "663de537-4f44-430b-a843-64973d2e2ef0",
   "metadata": {},
   "source": [
    "add station_name to coordinates, needs to appear as auxiliary coordinate."
   ]
  },
  {
   "cell_type": "code",
   "execution_count": 5,
   "id": "072ebfda-87f1-42fe-8de3-5f6994ad4150",
   "metadata": {},
   "outputs": [
    {
     "name": "stdout",
     "output_type": "stream",
     "text": [
      "-------------------------------------\n",
      "Field: air_temperature (ncvar%tasmin)\n",
      "-------------------------------------\n",
      "Conventions = 'COARDS, CF-1.6, ACDD-1.3'\n",
      "_FillValue = 999.9\n",
      "cdm_data_type = 'TimeSeries'\n",
      "featureType = 'TimeSeries'\n",
      "missing_value = 999.9\n",
      "standard_name = 'air_temperature'\n",
      "units = 'K'\n",
      "\n",
      "Data(cf_role=timeseries_id(20), ncdim%timeseries_1(36170)) = [[--, ..., --]] K\n",
      "\n",
      "Domain Axis: cf_role=timeseries_id(20)\n",
      "Domain Axis: ncdim%timeseries_1(36170)\n",
      "\n",
      "Auxiliary coordinate: time\n",
      "    _CoordinateAxisType = 'Time'\n",
      "    axis = 'T'\n",
      "    calendar = 'gregorian'\n",
      "    long_name = 'time of measurement'\n",
      "    standard_name = 'time'\n",
      "    units = 'days since 1900-01-01 00:00:00'\n",
      "    Data(cf_role=timeseries_id(20), ncdim%timeseries_1(36170)) = [[1924-01-01 00:00:00, ..., --]] gregorian\n",
      "\n",
      "Auxiliary coordinate: latitude\n",
      "    _CoordinateAxisType = 'Latitude'\n",
      "    axis = 'Y'\n",
      "    long_name = 'station latitude'\n",
      "    standard_name = 'latitude'\n",
      "    units = 'degrees_north'\n",
      "    Data(cf_role=timeseries_id(20)) = [-25.57859992980957, ..., -20.748300552368164] degrees_north\n",
      "\n",
      "Auxiliary coordinate: longitude\n",
      "    _CoordinateAxisType = 'Longitude'\n",
      "    axis = 'X'\n",
      "    long_name = 'station longitude'\n",
      "    standard_name = 'longitude'\n",
      "    units = 'degrees_east'\n",
      "    Data(cf_role=timeseries_id(20)) = [117.99310302734375, ..., 118.81719970703125] degrees_east\n",
      "\n",
      "Auxiliary coordinate: height\n",
      "    _CoordinateAxisType = 'Height'\n",
      "    axis = 'Z'\n",
      "    long_name = 'vertical distance above the surface'\n",
      "    positive = 'up'\n",
      "    standard_name = 'height'\n",
      "    units = 'm'\n",
      "    Data(cf_role=timeseries_id(20)) = [500.0, ..., 97.0] m\n",
      "\n",
      "Auxiliary coordinate: cf_role=timeseries_id\n",
      "    cf_role = 'timeseries_id'\n",
      "    ioos_category = 'Identifier'\n",
      "    long_name = 'Station'\n",
      "    Data(cf_role=timeseries_id(20)) = [ASN00007093, ..., ASN00004038]\n",
      "\n"
     ]
    },
    {
     "name": "stderr",
     "output_type": "stream",
     "text": [
      "/opt/conda/lib/python3.11/site-packages/numpy/ma/core.py:467: RuntimeWarning: invalid value encountered in cast\n",
      "  fill_value = np.array(fill_value, copy=False, dtype=ndtype)\n"
     ]
    }
   ],
   "source": [
    "temp.dump()"
   ]
  },
  {
   "cell_type": "markdown",
   "id": "3e29fbbe-3774-4728-ac0a-15b1360ed0c8",
   "metadata": {},
   "source": [
    "There is only one Time coordinate axis that is 2D."
   ]
  },
  {
   "cell_type": "code",
   "execution_count": 6,
   "id": "a40557bf-c0d8-4e08-8a1b-b8e451082c2d",
   "metadata": {},
   "outputs": [
    {
     "data": {
      "text/plain": [
       "<CF AuxiliaryCoordinate: time(20, 36170) days since 1900-01-01 00:00:00 gregorian>"
      ]
     },
     "execution_count": 6,
     "metadata": {},
     "output_type": "execute_result"
    }
   ],
   "source": [
    "temp.coordinate('T')"
   ]
  },
  {
   "cell_type": "code",
   "execution_count": 7,
   "id": "36e4cd51-0ad3-416e-9287-493701d0b873",
   "metadata": {},
   "outputs": [
    {
     "data": {
      "text/plain": [
       "<CF DomainAxis: size(20)>"
      ]
     },
     "execution_count": 7,
     "metadata": {},
     "output_type": "execute_result"
    }
   ],
   "source": [
    "temp.domain_axis('X')"
   ]
  },
  {
   "cell_type": "code",
   "execution_count": 8,
   "id": "177d89b3-4e58-4f93-a8ca-2f7656ea3cab",
   "metadata": {},
   "outputs": [
    {
     "data": {
      "text/plain": [
       "<CF Field: air_temperature(cf_role=timeseries_id(20), ncdim%timeseries_1(1)) K>"
      ]
     },
     "execution_count": 8,
     "metadata": {},
     "output_type": "execute_result"
    }
   ],
   "source": [
    "temp.collapse('ncdim%timeseries_1: maximum')\n",
    "# temp.collapse('T: maximum')"
   ]
  },
  {
   "cell_type": "code",
   "execution_count": 9,
   "id": "7533db21-4d07-4d23-9c71-dc60533f358c",
   "metadata": {},
   "outputs": [
    {
     "data": {
      "text/plain": [
       "<CF Field: air_temperature(ncdim%timeseries(1), ncdim%timeseries_1(36170)) K>"
      ]
     },
     "execution_count": 9,
     "metadata": {},
     "output_type": "execute_result"
    }
   ],
   "source": [
    "temp.collapse('ncdim%timeseries: maximum')"
   ]
  },
  {
   "cell_type": "code",
   "execution_count": 10,
   "id": "d16e36fc-0ce0-43f9-9539-804647929fbe",
   "metadata": {},
   "outputs": [
    {
     "data": {
      "text/plain": [
       "<CF Field: air_temperature(ncdim%timeseries(1), ncdim%timeseries_1(36170)) K>"
      ]
     },
     "execution_count": 10,
     "metadata": {},
     "output_type": "execute_result"
    }
   ],
   "source": [
    "temp.collapse('cf_role=timeseries_id: maximum')"
   ]
  },
  {
   "cell_type": "code",
   "execution_count": 11,
   "id": "3b34849e-f9ea-4db3-9937-dc6850bcd0b4",
   "metadata": {},
   "outputs": [
    {
     "ename": "ValueError",
     "evalue": "Dimension and/or auxiliary coordinates are required for a grouped collapse with a sequence of groups.",
     "output_type": "error",
     "traceback": [
      "\u001b[0;31m---------------------------------------------------------------------------\u001b[0m",
      "\u001b[0;31mValueError\u001b[0m                                Traceback (most recent call last)",
      "\u001b[0;32m/tmp/ipykernel_29474/1159487416.py\u001b[0m in \u001b[0;36m?\u001b[0;34m()\u001b[0m\n\u001b[0;32m----> 1\u001b[0;31m \u001b[0mtemp\u001b[0m\u001b[0;34m.\u001b[0m\u001b[0mcollapse\u001b[0m\u001b[0;34m(\u001b[0m\u001b[0;34m'ncdim%timeseries_1: maximum'\u001b[0m\u001b[0;34m,\u001b[0m \u001b[0mgroup\u001b[0m\u001b[0;34m=\u001b[0m\u001b[0mcf\u001b[0m\u001b[0;34m.\u001b[0m\u001b[0mseasons\u001b[0m\u001b[0;34m(\u001b[0m\u001b[0;34m)\u001b[0m\u001b[0;34m)\u001b[0m\u001b[0;34m\u001b[0m\u001b[0;34m\u001b[0m\u001b[0m\n\u001b[0m",
      "\u001b[0;32m/opt/conda/lib/python3.11/site-packages/cf/decorators.py\u001b[0m in \u001b[0;36m?\u001b[0;34m(self, *args, **kwargs)\u001b[0m\n\u001b[1;32m     67\u001b[0m                         \u001b[0mversion\u001b[0m\u001b[0;34m=\u001b[0m\u001b[0mversion\u001b[0m\u001b[0;34m,\u001b[0m\u001b[0;34m\u001b[0m\u001b[0;34m\u001b[0m\u001b[0m\n\u001b[1;32m     68\u001b[0m                         \u001b[0mremoved_at\u001b[0m\u001b[0;34m=\u001b[0m\u001b[0mremoved_at\u001b[0m\u001b[0;34m,\u001b[0m\u001b[0;34m\u001b[0m\u001b[0;34m\u001b[0m\u001b[0m\n\u001b[1;32m     69\u001b[0m                     )  # pragma: no cover\n\u001b[1;32m     70\u001b[0m \u001b[0;34m\u001b[0m\u001b[0m\n\u001b[0;32m---> 71\u001b[0;31m             \u001b[0moperation_method_result\u001b[0m \u001b[0;34m=\u001b[0m \u001b[0moperation_method\u001b[0m\u001b[0;34m(\u001b[0m\u001b[0mself\u001b[0m\u001b[0;34m,\u001b[0m \u001b[0;34m*\u001b[0m\u001b[0margs\u001b[0m\u001b[0;34m,\u001b[0m \u001b[0;34m**\u001b[0m\u001b[0mkwargs\u001b[0m\u001b[0;34m)\u001b[0m\u001b[0;34m\u001b[0m\u001b[0;34m\u001b[0m\u001b[0m\n\u001b[0m\u001b[1;32m     72\u001b[0m \u001b[0;34m\u001b[0m\u001b[0m\n\u001b[1;32m     73\u001b[0m             \u001b[0;31m# Decorated method has same return signature as if undecorated:\u001b[0m\u001b[0;34m\u001b[0m\u001b[0;34m\u001b[0m\u001b[0m\n\u001b[1;32m     74\u001b[0m             \u001b[0;32mreturn\u001b[0m \u001b[0moperation_method_result\u001b[0m\u001b[0;34m\u001b[0m\u001b[0;34m\u001b[0m\u001b[0m\n",
      "\u001b[0;32m/opt/conda/lib/python3.11/site-packages/cfdm/decorators.py\u001b[0m in \u001b[0;36m?\u001b[0;34m(*args, **kwargs)\u001b[0m\n\u001b[1;32m    185\u001b[0m                 \u001b[0;32mif\u001b[0m \u001b[0mverbose\u001b[0m \u001b[0;34m==\u001b[0m \u001b[0;36m0\u001b[0m\u001b[0;34m:\u001b[0m\u001b[0;34m\u001b[0m\u001b[0;34m\u001b[0m\u001b[0m\n\u001b[1;32m    186\u001b[0m                     \u001b[0m_disable_logging\u001b[0m\u001b[0;34m(\u001b[0m\u001b[0mat_level\u001b[0m\u001b[0;34m=\u001b[0m\u001b[0;34m\"NOTSET\"\u001b[0m\u001b[0;34m)\u001b[0m  \u001b[0;31m# lift deactivation\u001b[0m\u001b[0;34m\u001b[0m\u001b[0;34m\u001b[0m\u001b[0m\n\u001b[1;32m    187\u001b[0m                 \u001b[0;32melif\u001b[0m \u001b[0mverbose\u001b[0m \u001b[0;32mis\u001b[0m \u001b[0;32mnot\u001b[0m \u001b[0;32mNone\u001b[0m \u001b[0;32mand\u001b[0m \u001b[0m_is_valid_log_level_int\u001b[0m\u001b[0;34m(\u001b[0m\u001b[0mverbose\u001b[0m\u001b[0;34m)\u001b[0m\u001b[0;34m:\u001b[0m\u001b[0;34m\u001b[0m\u001b[0;34m\u001b[0m\u001b[0m\n\u001b[1;32m    188\u001b[0m                     \u001b[0m_reset_log_emergence_level\u001b[0m\u001b[0;34m(\u001b[0m\u001b[0mlog_level\u001b[0m\u001b[0;34m(\u001b[0m\u001b[0;34m)\u001b[0m\u001b[0;34m)\u001b[0m\u001b[0;34m\u001b[0m\u001b[0;34m\u001b[0m\u001b[0m\n\u001b[0;32m--> 189\u001b[0;31m                 \u001b[0;32mif\u001b[0m \u001b[0mlog_level\u001b[0m\u001b[0;34m(\u001b[0m\u001b[0;34m)\u001b[0m \u001b[0;34m==\u001b[0m \u001b[0;34m\"DISABLE\"\u001b[0m \u001b[0;32mand\u001b[0m \u001b[0mverbose\u001b[0m \u001b[0;34m!=\u001b[0m \u001b[0;36m0\u001b[0m\u001b[0;34m:\u001b[0m\u001b[0;34m\u001b[0m\u001b[0;34m\u001b[0m\u001b[0m\n\u001b[0m\u001b[1;32m    190\u001b[0m                     \u001b[0m_disable_logging\u001b[0m\u001b[0;34m(\u001b[0m\u001b[0;34m)\u001b[0m  \u001b[0;31m# disable again after re-enabling\u001b[0m\u001b[0;34m\u001b[0m\u001b[0;34m\u001b[0m\u001b[0m\n",
      "\u001b[0;32m/opt/conda/lib/python3.11/site-packages/cf/field.py\u001b[0m in \u001b[0;36m?\u001b[0;34m(self, method, axes, squeeze, mtol, weights, ddof, a, inplace, group, regroup, within_days, within_years, over_days, over_years, coordinate, group_by, group_span, group_contiguous, measure, scale, radius, great_circle, verbose, remove_vertical_crs, _create_zero_size_cell_bounds, _update_cell_methods, i, _debug, **kwargs)\u001b[0m\n\u001b[1;32m   6927\u001b[0m                             \u001b[0mg_weights\u001b[0m\u001b[0;34m[\u001b[0m\u001b[0miaxes\u001b[0m\u001b[0;34m]\u001b[0m \u001b[0;34m=\u001b[0m \u001b[0mg_weights\u001b[0m\u001b[0;34m[\u001b[0m\u001b[0miaxes\u001b[0m\u001b[0;34m]\u001b[0m\u001b[0;34m.\u001b[0m\u001b[0mpersist\u001b[0m\u001b[0;34m(\u001b[0m\u001b[0;34m)\u001b[0m\u001b[0;34m\u001b[0m\u001b[0;34m\u001b[0m\u001b[0m\n\u001b[1;32m   6928\u001b[0m                     \u001b[0;32melse\u001b[0m\u001b[0;34m:\u001b[0m\u001b[0;34m\u001b[0m\u001b[0;34m\u001b[0m\u001b[0m\n\u001b[1;32m   6929\u001b[0m                         \u001b[0mg_weights\u001b[0m \u001b[0;34m=\u001b[0m \u001b[0;32mNone\u001b[0m\u001b[0;34m\u001b[0m\u001b[0;34m\u001b[0m\u001b[0m\n\u001b[1;32m   6930\u001b[0m \u001b[0;34m\u001b[0m\u001b[0m\n\u001b[0;32m-> 6931\u001b[0;31m                 f = f._collapse_grouped(\n\u001b[0m\u001b[1;32m   6932\u001b[0m                     \u001b[0mmethod\u001b[0m\u001b[0;34m,\u001b[0m\u001b[0;34m\u001b[0m\u001b[0;34m\u001b[0m\u001b[0m\n\u001b[1;32m   6933\u001b[0m                     \u001b[0maxis\u001b[0m\u001b[0;34m,\u001b[0m\u001b[0;34m\u001b[0m\u001b[0;34m\u001b[0m\u001b[0m\n\u001b[1;32m   6934\u001b[0m                     \u001b[0mwithin\u001b[0m\u001b[0;34m=\u001b[0m\u001b[0mwithin\u001b[0m\u001b[0;34m,\u001b[0m\u001b[0;34m\u001b[0m\u001b[0;34m\u001b[0m\u001b[0m\n",
      "\u001b[0;32m/opt/conda/lib/python3.11/site-packages/cfdm/decorators.py\u001b[0m in \u001b[0;36m?\u001b[0;34m(*args, **kwargs)\u001b[0m\n\u001b[1;32m    180\u001b[0m             \u001b[0;31m# has finished, so the following condition prevents\u001b[0m\u001b[0;34m\u001b[0m\u001b[0;34m\u001b[0m\u001b[0m\n\u001b[1;32m    181\u001b[0m             \u001b[0;31m# resetting occurring once inner functions complete (which\u001b[0m\u001b[0;34m\u001b[0m\u001b[0;34m\u001b[0m\u001b[0m\n\u001b[1;32m    182\u001b[0m             \u001b[0;31m# would mean any subsequent code in the outer function\u001b[0m\u001b[0;34m\u001b[0m\u001b[0;34m\u001b[0m\u001b[0m\n\u001b[1;32m    183\u001b[0m             \u001b[0;31m# would undesirably regain the global level):\u001b[0m\u001b[0;34m\u001b[0m\u001b[0;34m\u001b[0m\u001b[0m\n\u001b[0;32m--> 184\u001b[0;31m             \u001b[0;32mif\u001b[0m \u001b[0mcalls\u001b[0m\u001b[0;34m[\u001b[0m\u001b[0;36m0\u001b[0m\u001b[0;34m]\u001b[0m \u001b[0;34m==\u001b[0m \u001b[0;36m0\u001b[0m\u001b[0;34m:\u001b[0m\u001b[0;34m\u001b[0m\u001b[0;34m\u001b[0m\u001b[0m\n\u001b[0m\u001b[1;32m    185\u001b[0m                 \u001b[0;32mif\u001b[0m \u001b[0mverbose\u001b[0m \u001b[0;34m==\u001b[0m \u001b[0;36m0\u001b[0m\u001b[0;34m:\u001b[0m\u001b[0;34m\u001b[0m\u001b[0;34m\u001b[0m\u001b[0m\n\u001b[1;32m    186\u001b[0m                     \u001b[0m_disable_logging\u001b[0m\u001b[0;34m(\u001b[0m\u001b[0mat_level\u001b[0m\u001b[0;34m=\u001b[0m\u001b[0;34m\"NOTSET\"\u001b[0m\u001b[0;34m)\u001b[0m  \u001b[0;31m# lift deactivation\u001b[0m\u001b[0;34m\u001b[0m\u001b[0;34m\u001b[0m\u001b[0m\n\u001b[1;32m    187\u001b[0m                 \u001b[0;32melif\u001b[0m \u001b[0mverbose\u001b[0m \u001b[0;32mis\u001b[0m \u001b[0;32mnot\u001b[0m \u001b[0;32mNone\u001b[0m \u001b[0;32mand\u001b[0m \u001b[0m_is_valid_log_level_int\u001b[0m\u001b[0;34m(\u001b[0m\u001b[0mverbose\u001b[0m\u001b[0;34m)\u001b[0m\u001b[0;34m:\u001b[0m\u001b[0;34m\u001b[0m\u001b[0;34m\u001b[0m\u001b[0m\n",
      "\u001b[0;32m/opt/conda/lib/python3.11/site-packages/cf/field.py\u001b[0m in \u001b[0;36m?\u001b[0;34m(self, method, axis, within, over, within_days, within_years, over_days, over_years, group, group_span, group_contiguous, mtol, ddof, regroup, coordinate, measure, weights, squeeze, group_by, axis_in, verbose)\u001b[0m\n\u001b[1;32m   7991\u001b[0m                     coord = self.auxiliary_coordinate(\n\u001b[1;32m   7992\u001b[0m                         \u001b[0mfilter_by_axis\u001b[0m\u001b[0;34m=\u001b[0m\u001b[0;34m(\u001b[0m\u001b[0maxis\u001b[0m\u001b[0;34m,\u001b[0m\u001b[0;34m)\u001b[0m\u001b[0;34m,\u001b[0m \u001b[0maxis_mode\u001b[0m\u001b[0;34m=\u001b[0m\u001b[0;34m\"exact\"\u001b[0m\u001b[0;34m,\u001b[0m \u001b[0mdefault\u001b[0m\u001b[0;34m=\u001b[0m\u001b[0;32mNone\u001b[0m\u001b[0;34m\u001b[0m\u001b[0;34m\u001b[0m\u001b[0m\n\u001b[1;32m   7993\u001b[0m                     )\n\u001b[1;32m   7994\u001b[0m                     \u001b[0;32mif\u001b[0m \u001b[0mcoord\u001b[0m \u001b[0;32mis\u001b[0m \u001b[0;32mNone\u001b[0m\u001b[0;34m:\u001b[0m\u001b[0;34m\u001b[0m\u001b[0;34m\u001b[0m\u001b[0m\n\u001b[0;32m-> 7995\u001b[0;31m                         raise ValueError(\n\u001b[0m\u001b[1;32m   7996\u001b[0m                             \u001b[0;34m\"Dimension and/or auxiliary coordinates are \"\u001b[0m\u001b[0;34m\u001b[0m\u001b[0;34m\u001b[0m\u001b[0m\n\u001b[1;32m   7997\u001b[0m                             \u001b[0;34m\"required for a grouped collapse with a \"\u001b[0m\u001b[0;34m\u001b[0m\u001b[0;34m\u001b[0m\u001b[0m\n\u001b[1;32m   7998\u001b[0m                             \u001b[0;34m\"sequence of groups.\"\u001b[0m\u001b[0;34m\u001b[0m\u001b[0;34m\u001b[0m\u001b[0m\n",
      "\u001b[0;31mValueError\u001b[0m: Dimension and/or auxiliary coordinates are required for a grouped collapse with a sequence of groups."
     ]
    }
   ],
   "source": [
    "temp.collapse('ncdim%timeseries_1: maximum', group=cf.seasons())"
   ]
  },
  {
   "cell_type": "code",
   "execution_count": 12,
   "id": "8c362640-362f-410b-8021-b8da2bc282fb",
   "metadata": {},
   "outputs": [
    {
     "data": {
      "text/plain": [
       "<CF Count: long_name=Number of Observations for this TimeSeries(20) >"
      ]
     },
     "execution_count": 12,
     "metadata": {},
     "output_type": "execute_result"
    }
   ],
   "source": [
    "temp.data.get_count()"
   ]
  },
  {
   "cell_type": "code",
   "execution_count": 13,
   "id": "71718d0f-2eb5-49be-9c67-6d755fabad81",
   "metadata": {},
   "outputs": [
    {
     "data": {
      "text/plain": [
       "'ragged contiguous'"
      ]
     },
     "execution_count": 13,
     "metadata": {},
     "output_type": "execute_result"
    }
   ],
   "source": [
    "temp.data.get_compression_type()"
   ]
  },
  {
   "cell_type": "code",
   "execution_count": 14,
   "id": "a3bdb3d3-5e86-4262-b016-edff165606ce",
   "metadata": {},
   "outputs": [
    {
     "data": {
      "text/plain": [
       "(<CF AuxiliaryCoordinate: latitude(20) degrees_north>,\n",
       " <CF AuxiliaryCoordinate: longitude(20) degrees_east>,\n",
       " <CF AuxiliaryCoordinate: time(20, 36170) days since 1900-01-01 00:00:00 gregorian>)"
      ]
     },
     "execution_count": 14,
     "metadata": {},
     "output_type": "execute_result"
    }
   ],
   "source": [
    "temp.coordinate('Y'), temp.coordinate('X'), temp.coordinate('T')"
   ]
  },
  {
   "cell_type": "code",
   "execution_count": 15,
   "id": "b083b15a-3480-412e-b57b-acd944d6b7f3",
   "metadata": {},
   "outputs": [
    {
     "ename": "Warning",
     "evalue": "\n lineplot error - passed field is not suitable for plotting as a line\n",
     "output_type": "error",
     "traceback": [
      "\u001b[0;31m---------------------------------------------------------------------------\u001b[0m",
      "\u001b[0;31mWarning\u001b[0m                                   Traceback (most recent call last)",
      "\u001b[0;32m/tmp/ipykernel_29474/528437612.py\u001b[0m in \u001b[0;36m?\u001b[0;34m()\u001b[0m\n\u001b[0;32m----> 1\u001b[0;31m \u001b[0mcfplot\u001b[0m\u001b[0;34m.\u001b[0m\u001b[0mlineplot\u001b[0m\u001b[0;34m(\u001b[0m\u001b[0mtemp\u001b[0m\u001b[0;34m[\u001b[0m\u001b[0;36m0\u001b[0m\u001b[0;34m]\u001b[0m\u001b[0;34m)\u001b[0m\u001b[0;34m\u001b[0m\u001b[0;34m\u001b[0m\u001b[0m\n\u001b[0m",
      "\u001b[0;32m/opt/conda/lib/python3.11/site-packages/cfplot/cfplot.py\u001b[0m in \u001b[0;36m?\u001b[0;34m(f, x, y, fill, lines, line_labels, title, ptype, linestyle, linewidth, color, xlog, ylog, verbose, swap_xy, marker, markersize, markeredgecolor, markeredgewidth, label, legend_location, xunits, yunits, xlabel, ylabel, xticks, yticks, xticklabels, yticklabels, xname, yname, axes, xaxis, yaxis, titles, zorder)\u001b[0m\n\u001b[1;32m   7218\u001b[0m                     \u001b[0;32mif\u001b[0m \u001b[0mln\u001b[0m\u001b[0;34m:\u001b[0m\u001b[0;34m\u001b[0m\u001b[0;34m\u001b[0m\u001b[0m\n\u001b[1;32m   7219\u001b[0m                         \u001b[0merrstr\u001b[0m \u001b[0;34m=\u001b[0m \u001b[0merrstr\u001b[0m \u001b[0;34m+\u001b[0m\u001b[0;31m \u001b[0m\u001b[0;31m\\\u001b[0m\u001b[0;34m\u001b[0m\u001b[0;34m\u001b[0m\u001b[0m\n\u001b[1;32m   7220\u001b[0m                             \u001b[0mstr\u001b[0m\u001b[0;34m(\u001b[0m\u001b[0mmydim\u001b[0m\u001b[0;34m)\u001b[0m \u001b[0;34m+\u001b[0m \u001b[0;34m','\u001b[0m \u001b[0;34m+\u001b[0m \u001b[0mstr\u001b[0m\u001b[0;34m(\u001b[0m\u001b[0mln\u001b[0m\u001b[0;34m)\u001b[0m \u001b[0;34m+\u001b[0m \u001b[0;34m','\u001b[0m \u001b[0;34m+\u001b[0m\u001b[0;31m \u001b[0m\u001b[0;31m\\\u001b[0m\u001b[0;34m\u001b[0m\u001b[0;34m\u001b[0m\u001b[0m\n\u001b[1;32m   7221\u001b[0m                             \u001b[0mstr\u001b[0m\u001b[0;34m(\u001b[0m\u001b[0mf\u001b[0m\u001b[0;34m.\u001b[0m\u001b[0mconstruct\u001b[0m\u001b[0;34m(\u001b[0m\u001b[0mmydim\u001b[0m\u001b[0;34m)\u001b[0m\u001b[0;34m.\u001b[0m\u001b[0msize\u001b[0m\u001b[0;34m)\u001b[0m \u001b[0;34m+\u001b[0m \u001b[0;34m'\\n'\u001b[0m\u001b[0;34m\u001b[0m\u001b[0;34m\u001b[0m\u001b[0m\n\u001b[0;32m-> 7222\u001b[0;31m             \u001b[0;32mraise\u001b[0m \u001b[0mWarning\u001b[0m\u001b[0;34m(\u001b[0m\u001b[0merrstr\u001b[0m\u001b[0;34m)\u001b[0m\u001b[0;34m\u001b[0m\u001b[0;34m\u001b[0m\u001b[0m\n\u001b[0m\u001b[1;32m   7223\u001b[0m     \u001b[0;32melse\u001b[0m\u001b[0;34m:\u001b[0m\u001b[0;34m\u001b[0m\u001b[0;34m\u001b[0m\u001b[0m\n\u001b[1;32m   7224\u001b[0m         \u001b[0;32mif\u001b[0m \u001b[0mverbose\u001b[0m\u001b[0;34m:\u001b[0m\u001b[0;34m\u001b[0m\u001b[0;34m\u001b[0m\u001b[0m\n\u001b[1;32m   7225\u001b[0m             \u001b[0mprint\u001b[0m\u001b[0;34m(\u001b[0m\u001b[0;34m'lineplot - not a CF field, using passed data'\u001b[0m\u001b[0;34m)\u001b[0m\u001b[0;34m\u001b[0m\u001b[0;34m\u001b[0m\u001b[0m\n",
      "\u001b[0;31mWarning\u001b[0m: \n lineplot error - passed field is not suitable for plotting as a line\n"
     ]
    }
   ],
   "source": [
    "cfplot.lineplot(temp[0])"
   ]
  },
  {
   "cell_type": "code",
   "execution_count": 16,
   "id": "170d4cc0-c9f4-4a91-b901-61a496c09a5e",
   "metadata": {},
   "outputs": [
    {
     "data": {
      "text/plain": [
       "<CF Field: air_temperature(cf_role=timeseries_id(1), ncdim%timeseries_1(36170)) K>"
      ]
     },
     "execution_count": 16,
     "metadata": {},
     "output_type": "execute_result"
    }
   ],
   "source": [
    "temp[0]"
   ]
  },
  {
   "cell_type": "code",
   "execution_count": null,
   "id": "0868c70b-8600-4e82-94e6-893af752a9b8",
   "metadata": {},
   "outputs": [],
   "source": []
  }
 ],
 "metadata": {
  "kernelspec": {
   "display_name": "Python 3 (ipykernel)",
   "language": "python",
   "name": "python3"
  },
  "language_info": {
   "codemirror_mode": {
    "name": "ipython",
    "version": 3
   },
   "file_extension": ".py",
   "mimetype": "text/x-python",
   "name": "python",
   "nbconvert_exporter": "python",
   "pygments_lexer": "ipython3",
   "version": "3.11.6"
  }
 },
 "nbformat": 4,
 "nbformat_minor": 5
}
